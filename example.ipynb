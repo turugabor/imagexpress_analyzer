{
 "cells": [
  {
   "cell_type": "code",
   "execution_count": null,
   "metadata": {
    "ExecuteTime": {
     "end_time": "2024-09-05T12:25:55.381223Z",
     "start_time": "2024-09-05T12:25:54.057871Z"
    }
   },
   "outputs": [],
   "source": [
    "import imagexpress\n",
    "import pandas as pd\n",
    "import numpy as np\n",
    "import matplotlib.pyplot as plt\n",
    "import seaborn as sns"
   ]
  },
  {
   "cell_type": "code",
   "execution_count": null,
   "metadata": {
    "ExecuteTime": {
     "end_time": "2024-09-05T12:26:42.284548Z",
     "start_time": "2024-09-05T12:26:42.274781Z"
    }
   },
   "outputs": [],
   "source": [
    "DATA_FOLDER = \"path_to_data\" \n",
    "NUCLEUS_CHANNEL = 1\n",
    "CELL_CHANNEL = 3\n",
    "CHANNEL_TO_ANALYSE = 2\n",
    "RESULTS_FILE = \"path_to_output.csv\" "
   ]
  },
  {
   "cell_type": "code",
   "execution_count": null,
   "metadata": {},
   "outputs": [],
   "source": [
    "experiment = imagexpress.XpressExperiment(DATA_FOLDER,\n",
    "                                          nucleus_channel=NUCLEUS_CHANNEL,\n",
    "                                          cell_channel=CELL_CHANNEL,\n",
    "                                          channel_to_analyse=CHANNEL_TO_ANALYSE)"
   ]
  },
  {
   "cell_type": "code",
   "execution_count": null,
   "metadata": {},
   "outputs": [],
   "source": [
    "# cellpose parameters\n",
    "CELL_DIAMETER = 100\n",
    "NUCLEUS_DIAMETER = 50"
   ]
  },
  {
   "cell_type": "code",
   "execution_count": null,
   "metadata": {},
   "outputs": [],
   "source": [
    "experiment.cell_diameter = CELL_DIAMETER\n",
    "experiment.nucleus_diameter = NUCLEUS_DIAMETER \n",
    "# display 23th image from well A03\n",
    "experiment.display_image('A03', 's23', gamma = 0.5, cmap = 'plasma') "
   ]
  },
  {
   "cell_type": "code",
   "execution_count": null,
   "metadata": {},
   "outputs": [],
   "source": [
    "# analyze and save results\n",
    "experiment.analyse_experiment()\n",
    "experiment.results.to_csv(RESULTS_FILE)"
   ]
  }
 ],
 "metadata": {
  "kernelspec": {
   "display_name": "Python 3",
   "language": "python",
   "name": "python3"
  },
  "language_info": {
   "codemirror_mode": {
    "name": "ipython",
    "version": 3
   },
   "file_extension": ".py",
   "mimetype": "text/x-python",
   "name": "python",
   "nbconvert_exporter": "python",
   "pygments_lexer": "ipython3",
   "version": "3.8.10"
  },
  "toc": {
   "base_numbering": 1,
   "nav_menu": {},
   "number_sections": false,
   "sideBar": true,
   "skip_h1_title": false,
   "title_cell": "Table of Contents",
   "title_sidebar": "Contents",
   "toc_cell": false,
   "toc_position": {},
   "toc_section_display": true,
   "toc_window_display": false
  }
 },
 "nbformat": 4,
 "nbformat_minor": 4
}
